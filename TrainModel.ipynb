{
 "cells": [
  {
   "cell_type": "code",
   "execution_count": 1,
   "metadata": {},
   "outputs": [
    {
     "name": "stderr",
     "output_type": "stream",
     "text": [
      "Using TensorFlow backend.\n"
     ]
    }
   ],
   "source": [
    "import cv2\n",
    "import numpy as np\n",
    "import os\n",
    "import h5py\n",
    "import time\n",
    "from keras.models import Sequential\n",
    "from keras.utils import np_utils\n",
    "from keras.layers import Dense, Dropout, Flatten, Conv2D, MaxPooling2D, GlobalAveragePooling2D\n",
    "from keras.optimizers import Adam\n",
    "#from keras.optimizers import Adadelta\n",
    "import itertools\n",
    "import matplotlib.pyplot as plt\n",
    "%matplotlib inline\n",
    "from pathlib import Path\n",
    "from sklearn.metrics import accuracy_score\n",
    "from sklearn.metrics import classification_report\n",
    "from sklearn.metrics import confusion_matrix"
   ]
  },
  {
   "cell_type": "code",
   "execution_count": 2,
   "metadata": {},
   "outputs": [],
   "source": [
    "train_data_dir = 'input/train'\n",
    "test_data_dir = 'input/val'"
   ]
  },
  {
   "cell_type": "code",
   "execution_count": 3,
   "metadata": {},
   "outputs": [
    {
     "name": "stdout",
     "output_type": "stream",
     "text": [
      "['Black_footed_Albatross', 'Bobolink', 'Brewer_Blackbird', 'Cardinal', 'Crested_Auklet', 'Gray_Catbird', 'Groove_billed_Ani', 'Indigo_Bunting', 'Laysan_Albatross', 'Lazuli_Bunting', 'Least_Auklet', 'Painted_Bunting', 'Parakeet_Auklet', 'Red_winged_Blackbird', 'Rhinoceros_Auklet', 'Rusty_Blackbird', 'Sooty_Albatross', 'Spotted_Catbird', 'Yellow_breasted_Chat', 'Yellow_headed_Blackbird']\n"
     ]
    }
   ],
   "source": [
    "class_labels = os.listdir(train_data_dir)\n",
    "print(class_labels)"
   ]
  },
  {
   "cell_type": "code",
   "execution_count": 4,
   "metadata": {},
   "outputs": [
    {
     "name": "stdout",
     "output_type": "stream",
     "text": [
      "train\n",
      "Black_footed_Albatross 345\n",
      "Bobolink 320\n",
      "Brewer_Blackbird 332\n",
      "Cardinal 307\n",
      "Crested_Auklet 336\n",
      "Gray_Catbird 553\n",
      "Groove_billed_Ani 336\n",
      "Indigo_Bunting 313\n",
      "Laysan_Albatross 332\n",
      "Lazuli_Bunting 358\n",
      "Least_Auklet 536\n",
      "Painted_Bunting 369\n",
      "Parakeet_Auklet 369\n",
      "Red_winged_Blackbird 388\n",
      "Rhinoceros_Auklet 356\n",
      "Rusty_Blackbird 474\n",
      "Sooty_Albatross 374\n",
      "Spotted_Catbird 320\n",
      "Yellow_breasted_Chat 336\n",
      "Yellow_headed_Blackbird 313\n",
      "train ----- 7367\n",
      "val\n",
      "Black_footed_Albatross 87\n",
      "Bobolink 80\n",
      "Brewer_Blackbird 84\n",
      "Cardinal 77\n",
      "Crested_Auklet 84\n",
      "Gray_Catbird 139\n",
      "Groove_billed_Ani 84\n",
      "Indigo_Bunting 79\n",
      "Laysan_Albatross 84\n",
      "Lazuli_Bunting 90\n",
      "Least_Auklet 135\n",
      "Painted_Bunting 93\n",
      "Parakeet_Auklet 93\n",
      "Red_winged_Blackbird 98\n",
      "Rhinoceros_Auklet 90\n",
      "Rusty_Blackbird 119\n",
      "Sooty_Albatross 94\n",
      "Spotted_Catbird 80\n",
      "Yellow_breasted_Chat 84\n",
      "Yellow_headed_Blackbird 79\n",
      "val ----- 1853\n"
     ]
    }
   ],
   "source": [
    "for wdir in os.listdir('input'):\n",
    "    print(wdir)\n",
    "    wdir_total = 0\n",
    "    for label in class_labels:\n",
    "        total = len(os.listdir(os.path.join('input', wdir, label)))\n",
    "        print(label, total)\n",
    "        wdir_total +=total\n",
    "    print(wdir,'-----',wdir_total)"
   ]
  },
  {
   "cell_type": "code",
   "execution_count": 5,
   "metadata": {},
   "outputs": [],
   "source": [
    "nb_train_samples =7367\n",
    "nb_test_samples = 1853\n",
    "num_classes = 20\n",
    "img_rows= 64\n",
    "img_cols= 64\n",
    "channel = 3"
   ]
  },
  {
   "cell_type": "code",
   "execution_count": 6,
   "metadata": {},
   "outputs": [],
   "source": [
    "def load_training_data():\n",
    "    #Load training images\n",
    "    labels = os.listdir(train_data_dir)\n",
    "    print(labels)\n",
    "    total = len(labels)\n",
    "    \n",
    "    X_train = np.ndarray((nb_train_samples, img_rows, img_cols, 3), dtype = np.uint8)\n",
    "    Y_train = np.zeros((nb_train_samples,), dtype = np.uint8)\n",
    "    \n",
    "    i = 0\n",
    "    print('-'*30)\n",
    "    print('Creating training images...')\n",
    "    print('-'*30)\n",
    "    \n",
    "    j = 0\n",
    "    for label in labels:\n",
    "        image_names_train = os.listdir(os.path.join(train_data_dir, label))\n",
    "        total = len(image_names_train)\n",
    "        print(label, total)\n",
    "        for image_name in image_names_train:\n",
    "            try:\n",
    "                \n",
    "                img = cv2.imread(os.path.join(train_data_dir, label, image_name), 1)\n",
    "                img = np.array(cv2.resize(img, (img_rows,img_cols)))\n",
    "                X_train[i] = img\n",
    "                Y_train[i] = j\n",
    "            except Exception as e:\n",
    "                pass\n",
    "\n",
    "            if i % 800 == 0:\n",
    "                print('Done: {0}/{1} images'.format(i, total))\n",
    "            i += 1\n",
    "        j += 1    \n",
    "    print(str(i) +\"-------\"+ str(j))                \n",
    "    print('Loading done.')\n",
    "    \n",
    "    print('Transform targets to keras compatible format.')\n",
    "    Y_train = np_utils.to_categorical(Y_train[:nb_train_samples], num_classes)\n",
    "\n",
    "    return X_train, Y_train"
   ]
  },
  {
   "cell_type": "code",
   "execution_count": 7,
   "metadata": {},
   "outputs": [],
   "source": [
    "def load_validation_data():\n",
    "    # Load validation images\n",
    "    labels = os.listdir(test_data_dir)\n",
    "    \n",
    "\n",
    "    X_test = np.ndarray((nb_test_samples, img_rows, img_cols, 3), dtype=np.uint8)\n",
    "    Y_test = np.zeros((nb_test_samples,), dtype='uint8')\n",
    "\n",
    "    i = 0\n",
    "    print('-'*30)\n",
    "    print('Creating validation images...')\n",
    "    print('-'*30)\n",
    "    j = 0\n",
    "    for label in labels:\n",
    "        image_names_test = os.listdir(os.path.join(test_data_dir, label))\n",
    "        total = len(image_names_test)\n",
    "        print(label, total)\n",
    "        for image_name in image_names_test:\n",
    "            try:\n",
    "                img = cv2.imread(os.path.join(test_data_dir, label, image_name), 1)\n",
    "\n",
    "                img = np.array(cv2.resize(img, (img_rows,img_cols)))\n",
    "\n",
    "                X_test[i] = img\n",
    "                Y_test[i] = j\n",
    "            except Exception as e:\n",
    "                \n",
    "                pass\n",
    "\n",
    "            if i % 200 == 0:\n",
    "                print('Done: {0}/{1} images'.format(i, total))\n",
    "            i += 1\n",
    "        j += 1\n",
    "    print(i)            \n",
    "    print('Loading done.')\n",
    "    \n",
    "    print('Transform targets to keras compatible format.');\n",
    "    Y_test = np_utils.to_categorical(Y_test[:nb_test_samples], num_classes)\n",
    "\n",
    "    \n",
    "    return X_test, Y_test"
   ]
  },
  {
   "cell_type": "code",
   "execution_count": 8,
   "metadata": {
    "scrolled": true
   },
   "outputs": [
    {
     "name": "stdout",
     "output_type": "stream",
     "text": [
      "['Black_footed_Albatross', 'Bobolink', 'Brewer_Blackbird', 'Cardinal', 'Crested_Auklet', 'Gray_Catbird', 'Groove_billed_Ani', 'Indigo_Bunting', 'Laysan_Albatross', 'Lazuli_Bunting', 'Least_Auklet', 'Painted_Bunting', 'Parakeet_Auklet', 'Red_winged_Blackbird', 'Rhinoceros_Auklet', 'Rusty_Blackbird', 'Sooty_Albatross', 'Spotted_Catbird', 'Yellow_breasted_Chat', 'Yellow_headed_Blackbird']\n",
      "------------------------------\n",
      "Creating training images...\n",
      "------------------------------\n",
      "Black_footed_Albatross 345\n",
      "Done: 0/345 images\n",
      "Bobolink 320\n",
      "Brewer_Blackbird 332\n",
      "Done: 800/332 images\n",
      "Cardinal 307\n",
      "Crested_Auklet 336\n",
      "Done: 1600/336 images\n",
      "Gray_Catbird 553\n",
      "Groove_billed_Ani 336\n",
      "Done: 2400/336 images\n",
      "Indigo_Bunting 313\n",
      "Laysan_Albatross 332\n",
      "Lazuli_Bunting 358\n",
      "Done: 3200/358 images\n",
      "Least_Auklet 536\n",
      "Done: 4000/536 images\n",
      "Painted_Bunting 369\n",
      "Parakeet_Auklet 369\n",
      "Done: 4800/369 images\n",
      "Red_winged_Blackbird 388\n",
      "Rhinoceros_Auklet 356\n",
      "Rusty_Blackbird 474\n",
      "Done: 5600/474 images\n",
      "Sooty_Albatross 374\n",
      "Spotted_Catbird 320\n",
      "Done: 6400/320 images\n",
      "Yellow_breasted_Chat 336\n",
      "Yellow_headed_Blackbird 313\n",
      "Done: 7200/313 images\n",
      "7367-------20\n",
      "Loading done.\n",
      "Transform targets to keras compatible format.\n"
     ]
    }
   ],
   "source": [
    "x_train, y_train = load_training_data()\n"
   ]
  },
  {
   "cell_type": "code",
   "execution_count": 9,
   "metadata": {},
   "outputs": [
    {
     "name": "stdout",
     "output_type": "stream",
     "text": [
      "------------------------------\n",
      "Creating validation images...\n",
      "------------------------------\n",
      "Black_footed_Albatross 87\n",
      "Done: 0/87 images\n",
      "Bobolink 80\n",
      "Brewer_Blackbird 84\n",
      "Done: 200/84 images\n",
      "Cardinal 77\n",
      "Crested_Auklet 84\n",
      "Done: 400/84 images\n",
      "Gray_Catbird 139\n",
      "Groove_billed_Ani 84\n",
      "Done: 600/84 images\n",
      "Indigo_Bunting 79\n",
      "Laysan_Albatross 84\n",
      "Lazuli_Bunting 90\n",
      "Done: 800/90 images\n",
      "Least_Auklet 135\n",
      "Done: 1000/135 images\n",
      "Painted_Bunting 93\n",
      "Parakeet_Auklet 93\n",
      "Done: 1200/93 images\n",
      "Red_winged_Blackbird 98\n",
      "Rhinoceros_Auklet 90\n",
      "Rusty_Blackbird 119\n",
      "Done: 1400/119 images\n",
      "Sooty_Albatross 94\n",
      "Done: 1600/94 images\n",
      "Spotted_Catbird 80\n",
      "Yellow_breasted_Chat 84\n",
      "Yellow_headed_Blackbird 79\n",
      "Done: 1800/79 images\n",
      "1853\n",
      "Loading done.\n",
      "Transform targets to keras compatible format.\n"
     ]
    }
   ],
   "source": [
    "x_test, y_test = load_validation_data()"
   ]
  },
  {
   "cell_type": "code",
   "execution_count": 10,
   "metadata": {},
   "outputs": [
    {
     "name": "stdout",
     "output_type": "stream",
     "text": [
      "(7367, 64, 64, 3) (7367, 20) (1853, 64, 64, 3) (1853, 20)\n"
     ]
    }
   ],
   "source": [
    "print(x_train.shape, y_train.shape, x_test.shape, y_test.shape)"
   ]
  },
  {
   "cell_type": "code",
   "execution_count": 11,
   "metadata": {},
   "outputs": [],
   "source": [
    "# normalize data\n",
    "x_train = x_train.astype('float32')\n",
    "x_test = x_test.astype('float32')\n",
    "\n",
    "x_train /= 127.5\n",
    "x_test /= 127.5"
   ]
  },
  {
   "cell_type": "code",
   "execution_count": 12,
   "metadata": {},
   "outputs": [],
   "source": [
    "model = Sequential()"
   ]
  },
  {
   "cell_type": "code",
   "execution_count": 13,
   "metadata": {},
   "outputs": [],
   "source": [
    "model.add(Conv2D(32, (3, 3),activation='relu', padding='same', input_shape=(64,64,3)))\n",
    "model.add(MaxPooling2D(2, 2))\n",
    "model.add(Dropout(0.2))\n",
    "model.add(Conv2D(64, (3, 3),activation='relu'))\n",
    "model.add(MaxPooling2D(2,2))\n",
    "model.add(Dropout(0.5))\n",
    "model.add(Flatten())\n",
    "model.add(Dense(1024, activation='relu'))\n",
    "model.add(Dropout(0.2))\n",
    "model.add(Dense(num_classes, activation='softmax'))"
   ]
  },
  {
   "cell_type": "code",
   "execution_count": 14,
   "metadata": {},
   "outputs": [],
   "source": [
    "model.compile(\n",
    "    loss= 'categorical_crossentropy', \n",
    "    optimizer=Adam(lr=0.001, decay=1e-04),\n",
    "    metrics=['accuracy']\n",
    ")"
   ]
  },
  {
   "cell_type": "code",
   "execution_count": 15,
   "metadata": {},
   "outputs": [
    {
     "name": "stdout",
     "output_type": "stream",
     "text": [
      "Model: \"sequential_1\"\n",
      "_________________________________________________________________\n",
      "Layer (type)                 Output Shape              Param #   \n",
      "=================================================================\n",
      "conv2d_1 (Conv2D)            (None, 64, 64, 32)        896       \n",
      "_________________________________________________________________\n",
      "max_pooling2d_1 (MaxPooling2 (None, 32, 32, 32)        0         \n",
      "_________________________________________________________________\n",
      "dropout_1 (Dropout)          (None, 32, 32, 32)        0         \n",
      "_________________________________________________________________\n",
      "conv2d_2 (Conv2D)            (None, 30, 30, 64)        18496     \n",
      "_________________________________________________________________\n",
      "max_pooling2d_2 (MaxPooling2 (None, 15, 15, 64)        0         \n",
      "_________________________________________________________________\n",
      "dropout_2 (Dropout)          (None, 15, 15, 64)        0         \n",
      "_________________________________________________________________\n",
      "flatten_1 (Flatten)          (None, 14400)             0         \n",
      "_________________________________________________________________\n",
      "dense_1 (Dense)              (None, 1024)              14746624  \n",
      "_________________________________________________________________\n",
      "dropout_3 (Dropout)          (None, 1024)              0         \n",
      "_________________________________________________________________\n",
      "dense_2 (Dense)              (None, 20)                20500     \n",
      "=================================================================\n",
      "Total params: 14,786,516\n",
      "Trainable params: 14,786,516\n",
      "Non-trainable params: 0\n",
      "_________________________________________________________________\n"
     ]
    }
   ],
   "source": [
    "model.summary()"
   ]
  },
  {
   "cell_type": "code",
   "execution_count": 16,
   "metadata": {},
   "outputs": [
    {
     "name": "stdout",
     "output_type": "stream",
     "text": [
      "Train on 7367 samples, validate on 1853 samples\n",
      "Epoch 1/13\n",
      "7367/7367 [==============================] - 57s 8ms/step - loss: 4.9337 - accuracy: 0.0647 - val_loss: 2.9252 - val_accuracy: 0.1565\n",
      "Epoch 2/13\n",
      "7367/7367 [==============================] - 52s 7ms/step - loss: 2.5520 - accuracy: 0.2460 - val_loss: 1.9753 - val_accuracy: 0.5213\n",
      "Epoch 3/13\n",
      "7367/7367 [==============================] - 55s 7ms/step - loss: 1.4931 - accuracy: 0.5783 - val_loss: 0.9294 - val_accuracy: 0.7760\n",
      "Epoch 4/13\n",
      "7367/7367 [==============================] - 57s 8ms/step - loss: 0.6940 - accuracy: 0.8109 - val_loss: 0.3490 - val_accuracy: 0.9352\n",
      "Epoch 5/13\n",
      "7367/7367 [==============================] - 57s 8ms/step - loss: 0.3280 - accuracy: 0.9129 - val_loss: 0.1874 - val_accuracy: 0.9682\n",
      "Epoch 6/13\n",
      "7367/7367 [==============================] - 57s 8ms/step - loss: 0.1968 - accuracy: 0.9513 - val_loss: 0.1447 - val_accuracy: 0.9854\n",
      "Epoch 7/13\n",
      "7367/7367 [==============================] - 58s 8ms/step - loss: 0.1365 - accuracy: 0.9686 - val_loss: 0.0955 - val_accuracy: 0.9876\n",
      "Epoch 8/13\n",
      "7367/7367 [==============================] - 58s 8ms/step - loss: 0.0998 - accuracy: 0.9791 - val_loss: 0.0685 - val_accuracy: 0.9876\n",
      "Epoch 9/13\n",
      "7367/7367 [==============================] - 57s 8ms/step - loss: 0.0805 - accuracy: 0.9821 - val_loss: 0.0788 - val_accuracy: 0.9876\n",
      "Epoch 10/13\n",
      "7367/7367 [==============================] - 53s 7ms/step - loss: 0.0745 - accuracy: 0.9818 - val_loss: 0.0622 - val_accuracy: 0.9892\n",
      "Epoch 11/13\n",
      "7367/7367 [==============================] - 53s 7ms/step - loss: 0.0645 - accuracy: 0.9849 - val_loss: 0.0708 - val_accuracy: 0.9876\n",
      "Epoch 12/13\n",
      "7367/7367 [==============================] - 56s 8ms/step - loss: 0.0605 - accuracy: 0.9852 - val_loss: 0.0551 - val_accuracy: 0.9892\n",
      "Epoch 13/13\n",
      "7367/7367 [==============================] - 52s 7ms/step - loss: 0.0461 - accuracy: 0.9875 - val_loss: 0.0645 - val_accuracy: 0.9876\n"
     ]
    },
    {
     "data": {
      "text/plain": [
       "<keras.callbacks.callbacks.History at 0x2e320428c88>"
      ]
     },
     "execution_count": 16,
     "metadata": {},
     "output_type": "execute_result"
    }
   ],
   "source": [
    "model.fit(\n",
    "    x_train,\n",
    "    y_train,\n",
    "    batch_size=400,\n",
    "    epochs=13,\n",
    "    validation_data=(x_test, y_test),\n",
    "    shuffle=True\n",
    ")\n"
   ]
  },
  {
   "cell_type": "code",
   "execution_count": 17,
   "metadata": {},
   "outputs": [],
   "source": [
    "y_pred = model.predict(x_test, batch_size=10, verbose=0)"
   ]
  },
  {
   "cell_type": "code",
   "execution_count": 18,
   "metadata": {},
   "outputs": [
    {
     "data": {
      "text/plain": [
       "1853"
      ]
     },
     "execution_count": 18,
     "metadata": {},
     "output_type": "execute_result"
    }
   ],
   "source": [
    "y_predict = []\n",
    "for i in range(0, len(y_pred)):\n",
    "    y_predict.append(int(np.argmax(y_pred[i])))\n",
    "len(y_predict)"
   ]
  },
  {
   "cell_type": "code",
   "execution_count": 19,
   "metadata": {},
   "outputs": [
    {
     "data": {
      "text/plain": [
       "1853"
      ]
     },
     "execution_count": 19,
     "metadata": {},
     "output_type": "execute_result"
    }
   ],
   "source": [
    "y_true = []\n",
    "for i in range(0, len(y_test)):\n",
    "    y_true.append(int(np.argmax(y_test[i])))\n",
    "len(y_true)"
   ]
  },
  {
   "cell_type": "code",
   "execution_count": 28,
   "metadata": {},
   "outputs": [],
   "source": [
    "def plot_confusion_matrix(cm, classes,\n",
    "                          title='Confusion matrix',\n",
    "                          cmap=plt.cm.Blues):\n",
    "    plt.figure(figsize=(15,15))\n",
    "    plt.imshow(cm, interpolation='nearest', cmap=cmap)\n",
    "    plt.title(title)\n",
    "    plt.colorbar()\n",
    "    tick_marks = np.arange(len(classes))\n",
    "    plt.xticks(tick_marks, classes, rotation=45)\n",
    "    plt.yticks(tick_marks, classes)\n",
    "\n",
    "    fmt = 'd'\n",
    "    thresh = cm.max() / 2.\n",
    "    for i, j in itertools.product(range(cm.shape[0]), range(cm.shape[1])):\n",
    "        plt.text(j, i, format(cm[i, j], fmt),\n",
    "                 horizontalalignment=\"center\",\n",
    "                 color=\"white\" if cm[i, j] > thresh else \"black\")\n",
    "\n",
    "    plt.ylabel('Actual label')\n",
    "    plt.xlabel('Predicted label')\n",
    "    plt.tight_layout()\n",
    "    plt.show()"
   ]
  },
  {
   "cell_type": "code",
   "execution_count": 29,
   "metadata": {},
   "outputs": [],
   "source": [
    "cm_plot_labels = class_labels"
   ]
  },
  {
   "cell_type": "code",
   "execution_count": 30,
   "metadata": {},
   "outputs": [
    {
     "name": "stdout",
     "output_type": "stream",
     "text": [
      "              precision    recall  f1-score   support\n",
      "\n",
      "           0       1.00      1.00      1.00        87\n",
      "           1       1.00      1.00      1.00        80\n",
      "           2       1.00      1.00      1.00        84\n",
      "           3       1.00      1.00      1.00        77\n",
      "           4       1.00      0.73      0.84        84\n",
      "           5       1.00      1.00      1.00       139\n",
      "           6       0.82      1.00      0.90        84\n",
      "           7       1.00      1.00      1.00        79\n",
      "           8       1.00      1.00      1.00        84\n",
      "           9       1.00      1.00      1.00        90\n",
      "          10       1.00      1.00      1.00       135\n",
      "          11       1.00      1.00      1.00        93\n",
      "          12       0.95      1.00      0.97        93\n",
      "          13       1.00      1.00      1.00        98\n",
      "          14       1.00      1.00      1.00        90\n",
      "          15       1.00      1.00      1.00       119\n",
      "          16       1.00      1.00      1.00        94\n",
      "          17       1.00      1.00      1.00        80\n",
      "          18       1.00      1.00      1.00        84\n",
      "          19       1.00      1.00      1.00        79\n",
      "\n",
      "    accuracy                           0.99      1853\n",
      "   macro avg       0.99      0.99      0.99      1853\n",
      "weighted avg       0.99      0.99      0.99      1853\n",
      "\n"
     ]
    }
   ],
   "source": [
    "print(classification_report(y_true=y_true,y_pred=y_predict))"
   ]
  },
  {
   "cell_type": "code",
   "execution_count": 31,
   "metadata": {},
   "outputs": [
    {
     "data": {
      "image/png": "[encoded data removed]",
      "text/plain": [
       "<Figure size 1080x1080 with 2 Axes>"
      ]
     },
     "metadata": {
      "needs_background": "light"
     },
     "output_type": "display_data"
    }
   ],
   "source": [
    "# to plot confusion matrix\n",
    "cm = confusion_matrix(y_true=y_true, y_pred=y_predict)\n",
    "plot_confusion_matrix(cm, cm_plot_labels, title='Confusion Matrix')"
   ]
  },
  {
   "cell_type": "code",
   "execution_count": 32,
   "metadata": {},
   "outputs": [
    {
     "name": "stdout",
     "output_type": "stream",
     "text": [
      "1853/1853 [==============================] - 4s 2ms/step\n",
      "Loss Value :  0.06445481390819201\n",
      "Accuracy :  0.9875876903533936\n"
     ]
    }
   ],
   "source": [
    "score = model.evaluate(x= x_test, y= y_test, batch_size=32)\n",
    "acc = score[1]\n",
    "err = 1 - acc\n",
    "print(\"Loss Value : \", score[0])\n",
    "print(\"Accuracy : \", score[1])"
   ]
  },
  {
   "cell_type": "code",
   "execution_count": 33,
   "metadata": {},
   "outputs": [
    {
     "data": {
      "text/plain": [
       "3337"
      ]
     },
     "execution_count": 33,
     "metadata": {},
     "output_type": "execute_result"
    }
   ],
   "source": [
    "model_structure = model.to_json()\n",
    "f = Path(\"model/model_structure.json\")\n",
    "f.write_text(model_structure)"
   ]
  },
  {
   "cell_type": "code",
   "execution_count": 34,
   "metadata": {},
   "outputs": [],
   "source": [
    "model.save_weights(\"model/model_weights.h5\")"
   ]
  },
  {
   "cell_type": "markdown",
   "metadata": {},
   "source": [
    "# Thank You !"
   ]
  }
 ],
 "metadata": {
  "kernelspec": {
   "display_name": "Python 3",
   "language": "python",
   "name": "python3"
  },
  "language_info": {
   "codemirror_mode": {
    "name": "ipython",
    "version": 3
   },
   "file_extension": ".py",
   "mimetype": "text/x-python",
   "name": "python",
   "nbconvert_exporter": "python",
   "pygments_lexer": "ipython3",
   "version": "3.8.3"
  }
 },
 "nbformat": 4,
 "nbformat_minor": 2
}
